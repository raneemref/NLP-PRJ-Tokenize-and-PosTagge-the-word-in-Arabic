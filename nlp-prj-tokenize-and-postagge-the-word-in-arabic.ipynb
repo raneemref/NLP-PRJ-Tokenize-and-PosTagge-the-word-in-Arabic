{
 "cells": [
  {
   "cell_type": "code",
   "execution_count": 1,
   "id": "b8496da0",
   "metadata": {
    "execution": {
     "iopub.execute_input": "2023-02-09T21:49:21.032726Z",
     "iopub.status.busy": "2023-02-09T21:49:21.031978Z",
     "iopub.status.idle": "2023-02-09T21:49:34.857120Z",
     "shell.execute_reply": "2023-02-09T21:49:34.855295Z"
    },
    "papermill": {
     "duration": 13.837728,
     "end_time": "2023-02-09T21:49:34.860816",
     "exception": false,
     "start_time": "2023-02-09T21:49:21.023088",
     "status": "completed"
    },
    "tags": []
   },
   "outputs": [
    {
     "name": "stdout",
     "output_type": "stream",
     "text": [
      "Collecting farasapy\n",
      "  Downloading farasapy-0.0.14-py3-none-any.whl (11 kB)\n",
      "Requirement already satisfied: tqdm in c:\\users\\hp\\anaconda3\\lib\\site-packages (from farasapy) (4.64.1)\n",
      "Requirement already satisfied: requests in c:\\users\\hp\\anaconda3\\lib\\site-packages (from farasapy) (2.28.1)\n",
      "Requirement already satisfied: urllib3<1.27,>=1.21.1 in c:\\users\\hp\\anaconda3\\lib\\site-packages (from requests->farasapy) (1.26.11)\n",
      "Requirement already satisfied: charset-normalizer<3,>=2 in c:\\users\\hp\\anaconda3\\lib\\site-packages (from requests->farasapy) (2.0.4)\n",
      "Requirement already satisfied: certifi>=2017.4.17 in c:\\users\\hp\\anaconda3\\lib\\site-packages (from requests->farasapy) (2022.9.14)\n",
      "Requirement already satisfied: idna<4,>=2.5 in c:\\users\\hp\\anaconda3\\lib\\site-packages (from requests->farasapy) (3.3)\n",
      "Requirement already satisfied: colorama in c:\\users\\hp\\anaconda3\\lib\\site-packages (from tqdm->farasapy) (0.4.5)\n",
      "Installing collected packages: farasapy\n",
      "Successfully installed farasapy-0.0.14\n",
      "Note: you may need to restart the kernel to use updated packages.\n"
     ]
    }
   ],
   "source": [
    "pip install farasapy"
   ]
  },
  {
   "cell_type": "code",
   "execution_count": 2,
   "id": "61e41081",
   "metadata": {
    "execution": {
     "iopub.execute_input": "2023-02-09T21:49:34.869859Z",
     "iopub.status.busy": "2023-02-09T21:49:34.869207Z",
     "iopub.status.idle": "2023-02-09T21:49:47.412962Z",
     "shell.execute_reply": "2023-02-09T21:49:47.410688Z"
    },
    "papermill": {
     "duration": 12.552277,
     "end_time": "2023-02-09T21:49:47.416533",
     "exception": false,
     "start_time": "2023-02-09T21:49:34.864256",
     "status": "completed"
    },
    "tags": []
   },
   "outputs": [
    {
     "name": "stdout",
     "output_type": "stream",
     "text": [
      "Collecting pypdf2\n",
      "  Downloading pypdf2-3.0.1-py3-none-any.whl (232 kB)\n",
      "     ------------------------------------ 232.6/232.6 kB 791.2 kB/s eta 0:00:00\n",
      "Requirement already satisfied: typing_extensions>=3.10.0.0 in c:\\users\\hp\\anaconda3\\lib\\site-packages (from pypdf2) (4.3.0)\n",
      "Installing collected packages: pypdf2\n",
      "Successfully installed pypdf2-3.0.1\n",
      "Note: you may need to restart the kernel to use updated packages.\n"
     ]
    }
   ],
   "source": [
    "pip install pypdf2"
   ]
  },
  {
   "cell_type": "markdown",
   "id": "c84ae607",
   "metadata": {
    "papermill": {
     "duration": 0.003058,
     "end_time": "2023-02-09T21:49:47.423320",
     "exception": false,
     "start_time": "2023-02-09T21:49:47.420262",
     "status": "completed"
    },
    "tags": []
   },
   "source": []
  },
  {
   "cell_type": "code",
   "execution_count": 3,
   "id": "57be1d57",
   "metadata": {
    "execution": {
     "iopub.execute_input": "2023-02-09T21:49:47.432566Z",
     "iopub.status.busy": "2023-02-09T21:49:47.432029Z",
     "iopub.status.idle": "2023-02-09T21:49:49.294477Z",
     "shell.execute_reply": "2023-02-09T21:49:49.293004Z"
    },
    "papermill": {
     "duration": 1.871162,
     "end_time": "2023-02-09T21:49:49.297817",
     "exception": false,
     "start_time": "2023-02-09T21:49:47.426655",
     "status": "completed"
    },
    "tags": []
   },
   "outputs": [],
   "source": [
    "import tkinter as tk\n",
    "import nltk\n",
    "from farasa.pos import FarasaPOSTagger\n",
    "from tkinter import *\n",
    "from tkinter import ttk # so we can add taps for out gui\n",
    "import PyPDF2\n",
    "from tkinter.scrolledtext import *"
   ]
  },
  {
   "cell_type": "code",
   "execution_count": null,
   "id": "57760c88",
   "metadata": {
    "execution": {
     "iopub.execute_input": "2023-02-09T21:49:49.307328Z",
     "iopub.status.busy": "2023-02-09T21:49:49.306897Z",
     "iopub.status.idle": "2023-02-09T21:49:49.313900Z",
     "shell.execute_reply": "2023-02-09T21:49:49.312512Z"
    },
    "papermill": {
     "duration": 0.015129,
     "end_time": "2023-02-09T21:49:49.316679",
     "exception": false,
     "start_time": "2023-02-09T21:49:49.301550",
     "status": "completed"
    },
    "tags": []
   },
   "outputs": [
    {
     "name": "stderr",
     "output_type": "stream",
     "text": [
      "Exception in Tkinter callback\n",
      "Traceback (most recent call last):\n",
      "  File \"C:\\Users\\HP\\anaconda3\\lib\\tkinter\\__init__.py\", line 1892, in __call__\n",
      "    return self.func(*args)\n",
      "  File \"C:\\Users\\HP\\AppData\\Local\\Temp\\ipykernel_8660\\69252997.py\", line 35, in get_pos_tags\n",
      "    new_text =  FarasaPOSTagger()\n",
      "  File \"C:\\Users\\HP\\anaconda3\\lib\\site-packages\\farasa\\__base.py\", line 41, in __init__\n",
      "    self._check_java_version()\n",
      "  File \"C:\\Users\\HP\\anaconda3\\lib\\site-packages\\farasa\\__base.py\", line 144, in _check_java_version\n",
      "    version_proc_output = subprocess.check_output(\n",
      "  File \"C:\\Users\\HP\\anaconda3\\lib\\subprocess.py\", line 424, in check_output\n",
      "    return run(*popenargs, stdout=PIPE, timeout=timeout, check=True,\n",
      "  File \"C:\\Users\\HP\\anaconda3\\lib\\subprocess.py\", line 505, in run\n",
      "    with Popen(*popenargs, **kwargs) as process:\n",
      "  File \"C:\\Users\\HP\\anaconda3\\lib\\subprocess.py\", line 951, in __init__\n",
      "    self._execute_child(args, executable, preexec_fn, close_fds,\n",
      "  File \"C:\\Users\\HP\\anaconda3\\lib\\subprocess.py\", line 1420, in _execute_child\n",
      "    hp, ht, pid, tid = _winapi.CreateProcess(executable, args,\n",
      "FileNotFoundError: [WinError 2] The system cannot find the file specified\n",
      "Exception in Tkinter callback\n",
      "Traceback (most recent call last):\n",
      "  File \"C:\\Users\\HP\\anaconda3\\lib\\tkinter\\__init__.py\", line 1892, in __call__\n",
      "    return self.func(*args)\n",
      "  File \"C:\\Users\\HP\\AppData\\Local\\Temp\\ipykernel_8660\\69252997.py\", line 35, in get_pos_tags\n",
      "    new_text =  FarasaPOSTagger()\n",
      "  File \"C:\\Users\\HP\\anaconda3\\lib\\site-packages\\farasa\\__base.py\", line 41, in __init__\n",
      "    self._check_java_version()\n",
      "  File \"C:\\Users\\HP\\anaconda3\\lib\\site-packages\\farasa\\__base.py\", line 144, in _check_java_version\n",
      "    version_proc_output = subprocess.check_output(\n",
      "  File \"C:\\Users\\HP\\anaconda3\\lib\\subprocess.py\", line 424, in check_output\n",
      "    return run(*popenargs, stdout=PIPE, timeout=timeout, check=True,\n",
      "  File \"C:\\Users\\HP\\anaconda3\\lib\\subprocess.py\", line 505, in run\n",
      "    with Popen(*popenargs, **kwargs) as process:\n",
      "  File \"C:\\Users\\HP\\anaconda3\\lib\\subprocess.py\", line 951, in __init__\n",
      "    self._execute_child(args, executable, preexec_fn, close_fds,\n",
      "  File \"C:\\Users\\HP\\anaconda3\\lib\\subprocess.py\", line 1420, in _execute_child\n",
      "    hp, ht, pid, tid = _winapi.CreateProcess(executable, args,\n",
      "FileNotFoundError: [WinError 2] The system cannot find the file specified\n",
      "Exception in Tkinter callback\n",
      "Traceback (most recent call last):\n",
      "  File \"C:\\Users\\HP\\anaconda3\\lib\\tkinter\\__init__.py\", line 1892, in __call__\n",
      "    return self.func(*args)\n",
      "  File \"C:\\Users\\HP\\AppData\\Local\\Temp\\ipykernel_8660\\69252997.py\", line 35, in get_pos_tags\n",
      "    new_text =  FarasaPOSTagger()\n",
      "  File \"C:\\Users\\HP\\anaconda3\\lib\\site-packages\\farasa\\__base.py\", line 41, in __init__\n",
      "    self._check_java_version()\n",
      "  File \"C:\\Users\\HP\\anaconda3\\lib\\site-packages\\farasa\\__base.py\", line 144, in _check_java_version\n",
      "    version_proc_output = subprocess.check_output(\n",
      "  File \"C:\\Users\\HP\\anaconda3\\lib\\subprocess.py\", line 424, in check_output\n",
      "    return run(*popenargs, stdout=PIPE, timeout=timeout, check=True,\n",
      "  File \"C:\\Users\\HP\\anaconda3\\lib\\subprocess.py\", line 505, in run\n",
      "    with Popen(*popenargs, **kwargs) as process:\n",
      "  File \"C:\\Users\\HP\\anaconda3\\lib\\subprocess.py\", line 951, in __init__\n",
      "    self._execute_child(args, executable, preexec_fn, close_fds,\n",
      "  File \"C:\\Users\\HP\\anaconda3\\lib\\subprocess.py\", line 1420, in _execute_child\n",
      "    hp, ht, pid, tid = _winapi.CreateProcess(executable, args,\n",
      "FileNotFoundError: [WinError 2] The system cannot find the file specified\n",
      "Exception in Tkinter callback\n",
      "Traceback (most recent call last):\n",
      "  File \"C:\\Users\\HP\\anaconda3\\lib\\tkinter\\__init__.py\", line 1892, in __call__\n",
      "    return self.func(*args)\n",
      "  File \"C:\\Users\\HP\\AppData\\Local\\Temp\\ipykernel_8660\\69252997.py\", line 27, in get_tokens\n",
      "    new_text = TextBlob(raw_text)\n",
      "NameError: name 'TextBlob' is not defined\n",
      "Exception in Tkinter callback\n",
      "Traceback (most recent call last):\n",
      "  File \"C:\\Users\\HP\\anaconda3\\lib\\tkinter\\__init__.py\", line 1892, in __call__\n",
      "    return self.func(*args)\n",
      "  File \"C:\\Users\\HP\\AppData\\Local\\Temp\\ipykernel_8660\\69252997.py\", line 27, in get_tokens\n",
      "    new_text = TextBlob(raw_text)\n",
      "NameError: name 'TextBlob' is not defined\n",
      "Exception in Tkinter callback\n",
      "Traceback (most recent call last):\n",
      "  File \"C:\\Users\\HP\\anaconda3\\lib\\tkinter\\__init__.py\", line 1892, in __call__\n",
      "    return self.func(*args)\n",
      "  File \"C:\\Users\\HP\\AppData\\Local\\Temp\\ipykernel_8660\\69252997.py\", line 27, in get_tokens\n",
      "    new_text = TextBlob(raw_text)\n",
      "NameError: name 'TextBlob' is not defined\n",
      "Exception in Tkinter callback\n",
      "Traceback (most recent call last):\n",
      "  File \"C:\\Users\\HP\\anaconda3\\lib\\tkinter\\__init__.py\", line 1892, in __call__\n",
      "    return self.func(*args)\n",
      "  File \"C:\\Users\\HP\\AppData\\Local\\Temp\\ipykernel_8660\\69252997.py\", line 27, in get_tokens\n",
      "    new_text = TextBlob(raw_text)\n",
      "NameError: name 'TextBlob' is not defined\n",
      "Exception in Tkinter callback\n",
      "Traceback (most recent call last):\n",
      "  File \"C:\\Users\\HP\\anaconda3\\lib\\tkinter\\__init__.py\", line 1892, in __call__\n",
      "    return self.func(*args)\n",
      "  File \"C:\\Users\\HP\\AppData\\Local\\Temp\\ipykernel_8660\\69252997.py\", line 27, in get_tokens\n",
      "    new_text = TextBlob(raw_text)\n",
      "NameError: name 'TextBlob' is not defined\n",
      "Exception in Tkinter callback\n",
      "Traceback (most recent call last):\n",
      "  File \"C:\\Users\\HP\\anaconda3\\lib\\tkinter\\__init__.py\", line 1892, in __call__\n",
      "    return self.func(*args)\n",
      "  File \"C:\\Users\\HP\\AppData\\Local\\Temp\\ipykernel_8660\\69252997.py\", line 35, in get_pos_tags\n",
      "    new_text =  FarasaPOSTagger()\n",
      "  File \"C:\\Users\\HP\\anaconda3\\lib\\site-packages\\farasa\\__base.py\", line 41, in __init__\n",
      "    self._check_java_version()\n",
      "  File \"C:\\Users\\HP\\anaconda3\\lib\\site-packages\\farasa\\__base.py\", line 144, in _check_java_version\n",
      "    version_proc_output = subprocess.check_output(\n",
      "  File \"C:\\Users\\HP\\anaconda3\\lib\\subprocess.py\", line 424, in check_output\n",
      "    return run(*popenargs, stdout=PIPE, timeout=timeout, check=True,\n",
      "  File \"C:\\Users\\HP\\anaconda3\\lib\\subprocess.py\", line 505, in run\n",
      "    with Popen(*popenargs, **kwargs) as process:\n",
      "  File \"C:\\Users\\HP\\anaconda3\\lib\\subprocess.py\", line 951, in __init__\n",
      "    self._execute_child(args, executable, preexec_fn, close_fds,\n",
      "  File \"C:\\Users\\HP\\anaconda3\\lib\\subprocess.py\", line 1420, in _execute_child\n",
      "    hp, ht, pid, tid = _winapi.CreateProcess(executable, args,\n",
      "FileNotFoundError: [WinError 2] The system cannot find the file specified\n",
      "Exception in Tkinter callback\n",
      "Traceback (most recent call last):\n",
      "  File \"C:\\Users\\HP\\anaconda3\\lib\\tkinter\\__init__.py\", line 1892, in __call__\n",
      "    return self.func(*args)\n",
      "  File \"C:\\Users\\HP\\AppData\\Local\\Temp\\ipykernel_8660\\69252997.py\", line 27, in get_tokens\n",
      "    new_text = TextBlob(raw_text)\n",
      "NameError: name 'TextBlob' is not defined\n"
     ]
    }
   ],
   "source": [
    "window =Tk()\n",
    "window.title(\"Raneem Project\") # title of the window\n",
    "window.geometry(\"800x600\")\n",
    "\n",
    "tab_control = ttk.Notebook(window)\n",
    "tab1 = ttk.Frame(tab_control)\n",
    "\n",
    "tab_control.add(tab1,text=\"NLP\")\n",
    "tab_control.pack(expand=1,fil='both')\n",
    "\n",
    "\n",
    "tab_control.pack(expand=1,fil='both')\n",
    "\n",
    "#########\n",
    "\n",
    "label1= Label(tab1,text=\"NLP\",padx=5,pady=5)\n",
    "label1.grid(column=0,row=0)\n",
    "\n",
    "l1 = Label(tab1,text=\"Enter Text to Analysis\")\n",
    "l1.grid(row=1,column=0)\n",
    "\n",
    "\n",
    "###########\n",
    "\n",
    "def get_tokens(): # fucntion to tokenize the sentances :) \n",
    "    raw_text = str(raw_entry.get())\n",
    "    new_text = TextBlob(raw_text)\n",
    "    final_text = new_text.words\n",
    "    result = '\\n Tokens: {}'.format(final_text)\n",
    "    # inserting into display screen\n",
    "    tab1_display.insert(tk.END,result)\n",
    "\n",
    "def get_pos_tags(): # fucntion to pos tagging the sentances \n",
    "    raw_text = str(raw_entry.get())\n",
    "    new_text =  FarasaPOSTagger()\n",
    "    final_text = new_text.tag(raw_text)\n",
    "    result = '\\n POS of Speech: {}'.format(final_text)\n",
    "    # inserting into display screen\n",
    "    tab1_display.insert(tk.END,result)\n",
    "#########\n",
    "\n",
    "\n",
    "\n",
    "#########\n",
    "# Cleaning / Clear\n",
    "def clear_entry_text():\n",
    "    entry1.delete(0,END)\n",
    "def clear_display_result():\n",
    "    tab1_display.delete(\"1.0\",END)\n",
    "\n",
    "#######\n",
    "raw_entry = StringVar() # to make like a text box to write our text \n",
    "entry1= Entry(tab1,textvariable=raw_entry,width=70)\n",
    "entry1.grid(row=1,column=1)\n",
    "\n",
    "button1=Button(tab1,text=\"Tokenizer\",width=12,bg=\"#2B8B88\",fg='#FFF'\n",
    ",command= get_tokens)\n",
    "button1.grid(row=4,column=0,padx=10,pady=10)\n",
    "\n",
    "button2=Button(tab1,text=\"POS Tagger\",width=12,bg=\"#8B2B84\",fg='#FFF',\n",
    "command= get_pos_tags)\n",
    "button2.grid(row=4,column=1,padx=10,pady=10)\n",
    "\n",
    "button3=Button(tab1,text=\"Reset\",width=12,bg=\"#C0392B\",fg='#FFF',\n",
    "command= clear_entry_text)\n",
    "button3.grid(row=5,column=0,padx=10,pady=10)\n",
    "\n",
    "button4=Button(tab1,text=\"Clear Result\",width=12,bg=\"#EC7063\",fg='#FFF',\n",
    "command= clear_display_result)\n",
    "button4.grid(row=5,column=1,padx=10,pady=10)\n",
    "#########\n",
    "\n",
    "\n",
    "\n",
    "tab1_display=ScrolledText(tab1,height=15)\n",
    "tab1_display.grid(row=7,column=0,columnspan=3,padx=5,pady=5 )\n",
    "\n",
    "\n",
    "window.mainloop()"
   ]
  },
  {
   "cell_type": "code",
   "execution_count": null,
   "id": "212d92bd",
   "metadata": {},
   "outputs": [],
   "source": []
  }
 ],
 "metadata": {
  "kernelspec": {
   "display_name": "Python 3 (ipykernel)",
   "language": "python",
   "name": "python3"
  },
  "language_info": {
   "codemirror_mode": {
    "name": "ipython",
    "version": 3
   },
   "file_extension": ".py",
   "mimetype": "text/x-python",
   "name": "python",
   "nbconvert_exporter": "python",
   "pygments_lexer": "ipython3",
   "version": "3.9.13"
  },
  "papermill": {
   "default_parameters": {},
   "duration": 38.287532,
   "end_time": "2023-02-09T21:49:50.446762",
   "environment_variables": {},
   "exception": null,
   "input_path": "__notebook__.ipynb",
   "output_path": "__notebook__.ipynb",
   "parameters": {},
   "start_time": "2023-02-09T21:49:12.159230",
   "version": "2.3.4"
  }
 },
 "nbformat": 4,
 "nbformat_minor": 5
}
